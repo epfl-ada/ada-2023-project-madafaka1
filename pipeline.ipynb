{
 "cells": [
  {
   "cell_type": "markdown",
   "metadata": {},
   "source": [
    "## Imports"
   ]
  },
  {
   "cell_type": "code",
   "execution_count": 3,
   "metadata": {},
   "outputs": [],
   "source": [
    "import numpy as np\n",
    "import pandas as pd\n",
    "import matplotlib.pyplot as plt\n",
    "import seaborn as sns\n",
    "import os\n",
    "import ast"
   ]
  },
  {
   "cell_type": "markdown",
   "metadata": {},
   "source": [
    "## Data preparation"
   ]
  },
  {
   "cell_type": "code",
   "execution_count": 4,
   "metadata": {},
   "outputs": [],
   "source": [
    "# Parameters to choose:\n",
    "\n",
    "# Minimum number of movies to consider a country,language or genre\n",
    "Min_count_count = 20\n",
    "Min_lang_count = 20\n",
    "Min_genre_count = 20\n",
    "\n"
   ]
  },
  {
   "cell_type": "markdown",
   "metadata": {},
   "source": [
    "### Movie preparation"
   ]
  },
  {
   "cell_type": "code",
   "execution_count": 326,
   "metadata": {},
   "outputs": [],
   "source": [
    "def movie_data_processing():\n",
    "    movies = pd.read_csv('data/MovieSummaries/movie.metadata.tsv', sep='\\t', header=None)\n",
    "\n",
    "    movies.columns = ['Wikipedia movie ID', 'Freebase movie ID', 'Movie name', 'Movie release date', 'Movie box office revenue', 'Movie runtime', 'Movie languages', 'Movie countries', 'Movie genres']\n",
    "    movies.drop('Freebase movie ID', axis=1, inplace=True)\n",
    "    movies[\"Movie languages\"]=movies[\"Movie languages\"].map(lambda x: set(ast.literal_eval(x).values()))\n",
    "    movies[\"Movie countries\"]=movies[\"Movie countries\"].map(lambda x: set(ast.literal_eval(x).values()))\n",
    "    movies['Movie genres']=movies['Movie genres'].map(lambda x: set(ast.literal_eval(x).values()))\n",
    "\n",
    "    return movies\n",
    "movies = movie_data_processing()"
   ]
  },
  {
   "cell_type": "code",
   "execution_count": 327,
   "metadata": {},
   "outputs": [
    {
     "name": "stdout",
     "output_type": "stream",
     "text": [
      "Number of languages:  207\n",
      "Number of countries:  147\n",
      "Number of genres:  363\n",
      "Number of languages with more than 10 movies:  99\n",
      "Number of genres with more than 10 movies:  276\n",
      "Number of countries with more than 10 movies:  105\n"
     ]
    }
   ],
   "source": [
    "def process_dict_columns(movies):\n",
    "    union_lang = set().union(*movies[\"Movie languages\"])\n",
    "    union_count = set().union(*movies['Movie countries'])\n",
    "    union_genres = set().union(*movies['Movie genres'])\n",
    "\n",
    "    print(\"Number of languages: \", len(union_lang))\n",
    "    print(\"Number of countries: \", len(union_count))\n",
    "    print(\"Number of genres: \", len(union_genres))\n",
    "\n",
    "\n",
    "\n",
    "    lang_count = {}\n",
    "    for lang in union_lang:\n",
    "        lang_count[lang] = 0\n",
    "    for lang in movies[\"Movie languages\"]:\n",
    "        for l in lang:\n",
    "            lang_count[l] += 1\n",
    "    lang_count = pd.DataFrame.from_dict(lang_count, orient='index', columns=['Count'])\n",
    "    lang_count.sort_values(by=['Count'], ascending=False, inplace=True)\n",
    "\n",
    "\n",
    "    lang_count = lang_count[lang_count['Count'] > Min_lang_count]\n",
    "    print(f\"Number of languages with more than {Min_lang_count} movies: \", len(lang_count))\n",
    "\n",
    "\n",
    "    genre_count = {}\n",
    "    for genre in union_genres:\n",
    "        genre_count[genre] = 0\n",
    "    for genre in movies['Movie genres']:\n",
    "        for g in genre:\n",
    "            genre_count[g] += 1\n",
    "    genre_count = pd.DataFrame.from_dict(genre_count, orient='index', columns=['Count'])\n",
    "    genre_count.sort_values(by=['Count'], ascending=False, inplace=True)\n",
    "\n",
    "\n",
    "    genre_count = genre_count[genre_count['Count'] > Min_genre_count]\n",
    "    print(f\"Number of genres with more than {Min_genre_count} movies: \", len(genre_count))\n",
    "\n",
    "    count_count = {}\n",
    "    for count in union_count:\n",
    "        count_count[count] = 0\n",
    "    for count in movies['Movie countries']:\n",
    "        for c in count:\n",
    "            count_count[c] += 1\n",
    "    count_count = pd.DataFrame.from_dict(count_count, orient='index', columns=['Count'])\n",
    "    count_count.sort_values(by=['Count'], ascending=False, inplace=True)\n",
    "\n",
    "\n",
    "\n",
    "    count_count = count_count[count_count['Count'] > Min_count_count]\n",
    "    print(f\"Number of countries with more than {Min_count_count} movies: \", len(count_count))\n",
    "\n",
    "        \n",
    "    movies[\"Movie languages\"] = movies[\"Movie languages\"].map(lambda x: set([l for l in x if l in lang_count.index]))\n",
    "    movies[\"Movie countries\"] = movies[\"Movie countries\"].map(lambda x: set([c for c in x if c in count_count.index]))\n",
    "    movies[\"Movie genres\"] = movies[\"Movie genres\"].map(lambda x: set([g for g in x if g in genre_count.index]))\n",
    "\n",
    "    movies.drop(movies[movies[\"Movie languages\"].map(lambda x: len(x)) == 0].index, inplace=True)\n",
    "    movies.drop(movies[movies[\"Movie countries\"].map(lambda x: len(x)) == 0].index, inplace=True)\n",
    "    movies.drop(movies[movies[\"Movie genres\"].map(lambda x: len(x)) == 0].index, inplace=True)\n",
    "    return movies\n",
    "\n",
    "movies = process_dict_columns(movies)"
   ]
  },
  {
   "cell_type": "code",
   "execution_count": 336,
   "metadata": {},
   "outputs": [
    {
     "name": "stderr",
     "output_type": "stream",
     "text": [
      "C:\\Users\\33651\\AppData\\Local\\Temp\\ipykernel_17668\\4244019923.py:6: SettingWithCopyWarning: \n",
      "A value is trying to be set on a copy of a slice from a DataFrame.\n",
      "Try using .loc[row_indexer,col_indexer] = value instead\n",
      "\n",
      "See the caveats in the documentation: https://pandas.pydata.org/pandas-docs/stable/user_guide/indexing.html#returning-a-view-versus-a-copy\n",
      "  movies[movies['Wikipedia movie ID']==29666067]['Movie release date']='2010-12-02'\n"
     ]
    }
   ],
   "source": [
    "## CAREFUL This will make that many films will be published the 1st of January\n",
    "def modify_movie_release_date(movies):\n",
    "    movies.drop(movies[movies['Movie release date'].map(lambda x: type(x)!=str)].index, inplace=True)\n",
    "    \n",
    "    #little error in the date\n",
    "    movies.loc[movies['Wikipedia movie ID']==29666067, 'Movie release date'] = '2010-12-02'\n",
    "\n",
    "    movies[\"Movie release date\"]=movies[\"Movie release date\"].map(lambda x: x if len(str(x).split('-'))==3 else str(x).split('-')[0]+'-01-01')\n",
    "    return movies\n",
    "\n",
    "movies = modify_movie_release_date(movies)"
   ]
  },
  {
   "cell_type": "markdown",
   "metadata": {},
   "source": [
    "### Nan in revenue column"
   ]
  },
  {
   "cell_type": "code",
   "execution_count": 329,
   "metadata": {},
   "outputs": [],
   "source": [
    "#drop when movie box office revenue is NaN\n",
    "movies=movies.dropna(subset=['Movie box office revenue'])\n"
   ]
  },
  {
   "cell_type": "code",
   "execution_count": 136,
   "metadata": {},
   "outputs": [],
   "source": [
    "tmdb = pd.read_csv('data/tmdb-movies.csv', sep=',', header=0)\n",
    "joined = movies.join(tmdb.set_index('original_title'), on='Movie name', how='inner', lsuffix='_left', rsuffix='_right')"
   ]
  },
  {
   "cell_type": "code",
   "execution_count": 189,
   "metadata": {},
   "outputs": [
    {
     "name": "stdout",
     "output_type": "stream",
     "text": [
      "Number of movies with revenue in tmdb but not in our dataset: 1556\n"
     ]
    }
   ],
   "source": [
    "nbr = ((1-(joined['Movie box office revenue']>0)) & (joined['revenue']>0)).sum()\n",
    "print(f\"Number of movies with revenue in tmdb but not in our dataset: {nbr}\")"
   ]
  },
  {
   "cell_type": "markdown",
   "metadata": {},
   "source": [
    "### Characters"
   ]
  },
  {
   "cell_type": "code",
   "execution_count": 330,
   "metadata": {},
   "outputs": [
    {
     "name": "stderr",
     "output_type": "stream",
     "text": [
      "C:\\Users\\33651\\AppData\\Local\\Temp\\ipykernel_17668\\3366413283.py:16: SettingWithCopyWarning: \n",
      "A value is trying to be set on a copy of a slice from a DataFrame.\n",
      "Try using .loc[row_indexer,col_indexer] = value instead\n",
      "\n",
      "See the caveats in the documentation: https://pandas.pydata.org/pandas-docs/stable/user_guide/indexing.html#returning-a-view-versus-a-copy\n",
      "  characters[characters['Wikipedia movie ID']==29666067]['Movie release date']='2010-12-02'\n"
     ]
    }
   ],
   "source": [
    "def characters_data_process():\n",
    "    characters = pd.read_csv('data/MovieSummaries/character.metadata.tsv', sep='\\t', header=None)\n",
    "    characters = characters.rename(columns={0: 'Wikipedia movie ID', 1: 'Freebase movie ID', 2: 'Movie release date', 3: 'Character name', 4: 'Actor date of birth', 5: 'Actor gender', 6: 'Actor height (in meters)', 7: 'Actor ethnicity (Freebase ID)', 8: 'Actor name', 9: 'Actor age at movie release', 10: 'Freebase character/actor map ID', 11: 'Freebase character ID', 12: 'Freebase actor ID'})\n",
    "    characters.drop('Freebase movie ID', axis=1, inplace=True)\n",
    "    characters.drop('Freebase character/actor map ID', axis=1, inplace=True)\n",
    "    characters.drop('Freebase character ID', axis=1, inplace=True)\n",
    "    characters.drop('Freebase actor ID', axis=1, inplace=True)\n",
    "\n",
    "    ## This one might be usefull\n",
    "    characters.drop('Actor ethnicity (Freebase ID)', axis=1, inplace=True)\n",
    "\n",
    "\n",
    "    characters[\"Movie release date\"] = characters[\"Movie release date\"].map(lambda x: x if len(str(x).split('-'))==3 else str(x).split('-')[0]+'-01-01')\n",
    "    \n",
    "    #little error in the date\n",
    "    characters.loc[characters['Wikipedia movie ID']==29666067, 'Movie release date'] = '2010-12-02'\n",
    "    \n",
    "    characters.dropna(subset=['Character name',\"Actor name\"], inplace=True)\n",
    "\n",
    "    characters = characters[characters['Wikipedia movie ID'].isin(movies['Wikipedia movie ID'])]\n",
    "    return characters\n",
    "characters = characters_data_process()"
   ]
  },
  {
   "cell_type": "markdown",
   "metadata": {},
   "source": [
    "### Plot Summaries"
   ]
  },
  {
   "cell_type": "code",
   "execution_count": 331,
   "metadata": {},
   "outputs": [],
   "source": [
    "from matplotlib.pyplot import plot\n",
    "\n",
    "\n",
    "def plot_summaries_data_process():\n",
    "    plot_summaries = pd.read_csv('data/MovieSummaries/plot_summaries.txt', sep='\\t', header=None)\n",
    "    plot_summaries.columns = ['Wikipedia movie ID', 'Plot summary']\n",
    "    plot_summaries.dropna(subset=['Plot summary'], inplace=True)\n",
    "    return plot_summaries[plot_summaries['Wikipedia movie ID'].isin(movies['Wikipedia movie ID'])]\n",
    "plot_summaries = plot_summaries_data_process()"
   ]
  },
  {
   "cell_type": "markdown",
   "metadata": {},
   "source": [
    "### First definition of success"
   ]
  },
  {
   "cell_type": "code",
   "execution_count": 345,
   "metadata": {},
   "outputs": [],
   "source": [
    "movies['Movie Year Release'] = movies['Movie release date'].map(lambda x: int(x.split('-')[0]))"
   ]
  },
  {
   "cell_type": "code",
   "execution_count": 333,
   "metadata": {},
   "outputs": [],
   "source": [
    "#mean of revenu per year\n",
    "mean_revenue_year = movies.groupby('Movie Year Release')['Movie box office revenue'].mean()\n",
    "\n",
    "movies[\"Normalized revenue\"] = movies[\"Movie box office revenue\"].map(lambda x: x/mean_revenue_year[movies['Movie Year Release'][movies.index]])\n",
    "\n",
    "# movies[\"Sucess\"] = movies[\"Movie box office revenue\"].map(lambda x: 1 if x>mean_revenue_year[movies['Movie Year Release'][movies.index]] else 0)"
   ]
  },
  {
   "cell_type": "code",
   "execution_count": 343,
   "metadata": {},
   "outputs": [],
   "source": [
    "movies.loc[movies['Wikipedia movie ID']==29666067, 'Movie release date'] = '2010-12-02'\n"
   ]
  },
  {
   "cell_type": "code",
   "execution_count": 346,
   "metadata": {},
   "outputs": [
    {
     "data": {
      "text/html": [
       "<div>\n",
       "<style scoped>\n",
       "    .dataframe tbody tr th:only-of-type {\n",
       "        vertical-align: middle;\n",
       "    }\n",
       "\n",
       "    .dataframe tbody tr th {\n",
       "        vertical-align: top;\n",
       "    }\n",
       "\n",
       "    .dataframe thead th {\n",
       "        text-align: right;\n",
       "    }\n",
       "</style>\n",
       "<table border=\"1\" class=\"dataframe\">\n",
       "  <thead>\n",
       "    <tr style=\"text-align: right;\">\n",
       "      <th></th>\n",
       "      <th>Wikipedia movie ID</th>\n",
       "      <th>Movie name</th>\n",
       "      <th>Movie release date</th>\n",
       "      <th>Movie box office revenue</th>\n",
       "      <th>Movie runtime</th>\n",
       "      <th>Movie languages</th>\n",
       "      <th>Movie countries</th>\n",
       "      <th>Movie genres</th>\n",
       "      <th>Movie Year Release</th>\n",
       "      <th>Normalized revenue</th>\n",
       "    </tr>\n",
       "  </thead>\n",
       "  <tbody>\n",
       "  </tbody>\n",
       "</table>\n",
       "</div>"
      ],
      "text/plain": [
       "Empty DataFrame\n",
       "Columns: [Wikipedia movie ID, Movie name, Movie release date, Movie box office revenue, Movie runtime, Movie languages, Movie countries, Movie genres, Movie Year Release, Normalized revenue]\n",
       "Index: []"
      ]
     },
     "execution_count": 346,
     "metadata": {},
     "output_type": "execute_result"
    }
   ],
   "source": [
    "movies[movies['Movie Year Release']<1500]"
   ]
  },
  {
   "cell_type": "code",
   "execution_count": 334,
   "metadata": {},
   "outputs": [
    {
     "data": {
      "text/plain": [
       "[<matplotlib.lines.Line2D at 0x1b9ed4e7310>]"
      ]
     },
     "execution_count": 334,
     "metadata": {},
     "output_type": "execute_result"
    },
    {
     "data": {
      "image/png": "[encoded data removed]",
      "text/plain": [
       "<Figure size 640x480 with 1 Axes>"
      ]
     },
     "metadata": {},
     "output_type": "display_data"
    }
   ],
   "source": [
    "plt.plot(mean_revenue_year)\n"
   ]
  },
  {
   "cell_type": "code",
   "execution_count": null,
   "metadata": {},
   "outputs": [],
   "source": []
  }
 ],
 "metadata": {
  "kernelspec": {
   "display_name": "ada",
   "language": "python",
   "name": "python3"
  },
  "language_info": {
   "codemirror_mode": {
    "name": "ipython",
    "version": 3
   },
   "file_extension": ".py",
   "mimetype": "text/x-python",
   "name": "python",
   "nbconvert_exporter": "python",
   "pygments_lexer": "ipython3",
   "version": "3.9.18"
  }
 },
 "nbformat": 4,
 "nbformat_minor": 2
}
