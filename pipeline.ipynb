{
 "cells": [
  {
   "cell_type": "markdown",
   "metadata": {},
   "source": [
    "## Imports"
   ]
  },
  {
   "cell_type": "code",
   "execution_count": 1,
   "metadata": {},
   "outputs": [],
   "source": [
    "import numpy as np\n",
    "import pandas as pd\n",
    "import matplotlib.pyplot as plt\n",
    "import seaborn as sns\n",
    "import os\n",
    "import ast"
   ]
  },
  {
   "cell_type": "markdown",
   "metadata": {},
   "source": [
    "## Data preparation"
   ]
  },
  {
   "cell_type": "code",
   "execution_count": 2,
   "metadata": {},
   "outputs": [],
   "source": [
    "# Parameters to choose:\n",
    "\n",
    "# Minimum number of movies to consider a country,language or genre\n",
    "Min_count_count = 20\n",
    "Min_lang_count = 20\n",
    "Min_genre_count = 20\n",
    "\n",
    "# Sucess threshold for a movie to be considered sucessful on the normalized revenue\n",
    "Sucess_revenue_threshold = 1.5\n"
   ]
  },
  {
   "cell_type": "markdown",
   "metadata": {},
   "source": [
    "### Movie preparation"
   ]
  },
  {
   "cell_type": "code",
   "execution_count": 54,
   "metadata": {},
   "outputs": [],
   "source": [
    "def movie_data_processing():\n",
    "    movies = pd.read_csv('data/MovieSummaries/movie.metadata.tsv', sep='\\t', header=None)\n",
    "\n",
    "    movies.columns = ['Wikipedia movie ID', 'Freebase movie ID', 'Movie name', 'Movie release date', 'Movie box office revenue', 'Movie runtime', 'Movie languages', 'Movie countries', 'Movie genres']\n",
    "    movies.drop('Freebase movie ID', axis=1, inplace=True)\n",
    "    movies[\"Movie languages\"]=movies[\"Movie languages\"].map(lambda x: set(ast.literal_eval(x).values()))\n",
    "    movies[\"Movie countries\"]=movies[\"Movie countries\"].map(lambda x: set(ast.literal_eval(x).values()))\n",
    "    movies['Movie genres']=movies['Movie genres'].map(lambda x: set(ast.literal_eval(x).values()))\n",
    "\n",
    "    return movies\n",
    "movies = movie_data_processing()"
   ]
  },
  {
   "cell_type": "code",
   "execution_count": 55,
   "metadata": {},
   "outputs": [
    {
     "name": "stdout",
     "output_type": "stream",
     "text": [
      "Number of languages:  207\n",
      "Number of countries:  147\n",
      "Number of genres:  363\n",
      "Number of languages with more than 20 movies:  81\n",
      "Number of genres with more than 20 movies:  245\n",
      "Number of countries with more than 20 movies:  88\n"
     ]
    }
   ],
   "source": [
    "def process_dict_columns(movies):\n",
    "    union_lang = set().union(*movies[\"Movie languages\"])\n",
    "    union_count = set().union(*movies['Movie countries'])\n",
    "    union_genres = set().union(*movies['Movie genres'])\n",
    "\n",
    "    print(\"Number of languages: \", len(union_lang))\n",
    "    print(\"Number of countries: \", len(union_count))\n",
    "    print(\"Number of genres: \", len(union_genres))\n",
    "\n",
    "\n",
    "\n",
    "    lang_count = {}\n",
    "    for lang in union_lang:\n",
    "        lang_count[lang] = 0\n",
    "    for lang in movies[\"Movie languages\"]:\n",
    "        for l in lang:\n",
    "            lang_count[l] += 1\n",
    "    lang_count = pd.DataFrame.from_dict(lang_count, orient='index', columns=['Count'])\n",
    "    lang_count.sort_values(by=['Count'], ascending=False, inplace=True)\n",
    "\n",
    "\n",
    "    lang_count = lang_count[lang_count['Count'] > Min_lang_count]\n",
    "    print(f\"Number of languages with more than {Min_lang_count} movies: \", len(lang_count))\n",
    "\n",
    "\n",
    "    genre_count = {}\n",
    "    for genre in union_genres:\n",
    "        genre_count[genre] = 0\n",
    "    for genre in movies['Movie genres']:\n",
    "        for g in genre:\n",
    "            genre_count[g] += 1\n",
    "    genre_count = pd.DataFrame.from_dict(genre_count, orient='index', columns=['Count'])\n",
    "    genre_count.sort_values(by=['Count'], ascending=False, inplace=True)\n",
    "\n",
    "\n",
    "    genre_count = genre_count[genre_count['Count'] > Min_genre_count]\n",
    "    print(f\"Number of genres with more than {Min_genre_count} movies: \", len(genre_count))\n",
    "\n",
    "    count_count = {}\n",
    "    for count in union_count:\n",
    "        count_count[count] = 0\n",
    "    for count in movies['Movie countries']:\n",
    "        for c in count:\n",
    "            count_count[c] += 1\n",
    "    count_count = pd.DataFrame.from_dict(count_count, orient='index', columns=['Count'])\n",
    "    count_count.sort_values(by=['Count'], ascending=False, inplace=True)\n",
    "\n",
    "\n",
    "\n",
    "    count_count = count_count[count_count['Count'] > Min_count_count]\n",
    "    print(f\"Number of countries with more than {Min_count_count} movies: \", len(count_count))\n",
    "\n",
    "        \n",
    "    movies[\"Movie languages\"] = movies[\"Movie languages\"].map(lambda x: set([l for l in x if l in lang_count.index]))\n",
    "    movies[\"Movie countries\"] = movies[\"Movie countries\"].map(lambda x: set([c for c in x if c in count_count.index]))\n",
    "    movies[\"Movie genres\"] = movies[\"Movie genres\"].map(lambda x: set([g for g in x if g in genre_count.index]))\n",
    "\n",
    "    movies.drop(movies[movies[\"Movie languages\"].map(lambda x: len(x)) == 0].index, inplace=True)\n",
    "    movies.drop(movies[movies[\"Movie countries\"].map(lambda x: len(x)) == 0].index, inplace=True)\n",
    "    movies.drop(movies[movies[\"Movie genres\"].map(lambda x: len(x)) == 0].index, inplace=True)\n",
    "    return movies\n",
    "\n",
    "movies = process_dict_columns(movies)"
   ]
  },
  {
   "cell_type": "code",
   "execution_count": 56,
   "metadata": {},
   "outputs": [],
   "source": [
    "## CAREFUL This will make that many films will be published the 1st of January\n",
    "def modify_movie_release_date(movies):\n",
    "    movies.drop(movies[movies['Movie release date'].map(lambda x: type(x)!=str)].index, inplace=True)\n",
    "    \n",
    "    #little error in the date\n",
    "    movies.loc[movies['Wikipedia movie ID']==29666067, 'Movie release date'] = '2010-12-02'\n",
    "\n",
    "    movies[\"Movie release date\"]=movies[\"Movie release date\"].map(lambda x: x if len(str(x).split('-'))==3 else str(x).split('-')[0]+'-01-01')\n",
    "    return movies\n",
    "\n",
    "movies = modify_movie_release_date(movies)"
   ]
  },
  {
   "cell_type": "markdown",
   "metadata": {},
   "source": [
    "### Nan in revenue column"
   ]
  },
  {
   "cell_type": "code",
   "execution_count": 6,
   "metadata": {},
   "outputs": [],
   "source": [
    "#drop when movie box office revenue is NaN\n",
    "movies=movies.dropna(subset=['Movie box office revenue'])\n"
   ]
  },
  {
   "cell_type": "code",
   "execution_count": 7,
   "metadata": {},
   "outputs": [],
   "source": [
    "tmdb = pd.read_csv('data/tmdb-movies.csv', sep=',', header=0)\n",
    "joined = movies.join(tmdb.set_index('original_title'), on='Movie name', how='inner', lsuffix='_left', rsuffix='_right')"
   ]
  },
  {
   "cell_type": "code",
   "execution_count": 8,
   "metadata": {},
   "outputs": [
    {
     "name": "stdout",
     "output_type": "stream",
     "text": [
      "Number of movies with revenue in tmdb but not in our dataset: 0\n"
     ]
    }
   ],
   "source": [
    "nbr = ((1-(joined['Movie box office revenue']>0)) & (joined['revenue']>0)).sum()\n",
    "print(f\"Number of movies with revenue in tmdb but not in our dataset: {nbr}\")"
   ]
  },
  {
   "cell_type": "markdown",
   "metadata": {},
   "source": [
    "### Characters"
   ]
  },
  {
   "cell_type": "code",
   "execution_count": 9,
   "metadata": {},
   "outputs": [],
   "source": [
    "def characters_data_process():\n",
    "    characters = pd.read_csv('data/MovieSummaries/character.metadata.tsv', sep='\\t', header=None)\n",
    "    characters = characters.rename(columns={0: 'Wikipedia movie ID', 1: 'Freebase movie ID', 2: 'Movie release date', 3: 'Character name', 4: 'Actor date of birth', 5: 'Actor gender', 6: 'Actor height (in meters)', 7: 'Actor ethnicity (Freebase ID)', 8: 'Actor name', 9: 'Actor age at movie release', 10: 'Freebase character/actor map ID', 11: 'Freebase character ID', 12: 'Freebase actor ID'})\n",
    "    characters.drop('Freebase movie ID', axis=1, inplace=True)\n",
    "    characters.drop('Freebase character/actor map ID', axis=1, inplace=True)\n",
    "    characters.drop('Freebase character ID', axis=1, inplace=True)\n",
    "    characters.drop('Freebase actor ID', axis=1, inplace=True)\n",
    "\n",
    "    ## This one might be usefull\n",
    "    characters.drop('Actor ethnicity (Freebase ID)', axis=1, inplace=True)\n",
    "\n",
    "\n",
    "    characters[\"Movie release date\"] = characters[\"Movie release date\"].map(lambda x: x if len(str(x).split('-'))==3 else str(x).split('-')[0]+'-01-01')\n",
    "    \n",
    "    #little error in the date\n",
    "    characters.loc[characters['Wikipedia movie ID']==29666067, 'Movie release date'] = '2010-12-02'\n",
    "    \n",
    "    characters.dropna(subset=['Character name',\"Actor name\"], inplace=True)\n",
    "\n",
    "    characters = characters[characters['Wikipedia movie ID'].isin(movies['Wikipedia movie ID'])]\n",
    "    return characters\n",
    "characters = characters_data_process()"
   ]
  },
  {
   "cell_type": "markdown",
   "metadata": {},
   "source": [
    "### Plot Summaries"
   ]
  },
  {
   "cell_type": "code",
   "execution_count": 10,
   "metadata": {},
   "outputs": [],
   "source": [
    "from matplotlib.pyplot import plot\n",
    "\n",
    "\n",
    "def plot_summaries_data_process():\n",
    "    plot_summaries = pd.read_csv('data/MovieSummaries/plot_summaries.txt', sep='\\t', header=None)\n",
    "    plot_summaries.columns = ['Wikipedia movie ID', 'Plot summary']\n",
    "    plot_summaries.dropna(subset=['Plot summary'], inplace=True)\n",
    "    return plot_summaries[plot_summaries['Wikipedia movie ID'].isin(movies['Wikipedia movie ID'])]\n",
    "plot_summaries = plot_summaries_data_process()"
   ]
  },
  {
   "cell_type": "markdown",
   "metadata": {},
   "source": [
    "### First definition of success"
   ]
  },
  {
   "cell_type": "code",
   "execution_count": 11,
   "metadata": {},
   "outputs": [],
   "source": [
    "movies['Movie Year Release'] = movies['Movie release date'].map(lambda x: int(x.split('-')[0]))\n",
    "\n",
    "mean_revenue_year = movies.groupby('Movie Year Release')['Movie box office revenue'].mean()\n",
    "\n",
    "for i in movies.index:\n",
    "    movies.loc[i, 'Normalized revenue'] = movies.loc[i, 'Movie box office revenue']/mean_revenue_year[movies.loc[i, 'Movie Year Release']]\n",
    "\n",
    "movies[\"Success\"] = movies[\"Normalized revenue\"]>Sucess_revenue_threshold"
   ]
  },
  {
   "cell_type": "code",
   "execution_count": 12,
   "metadata": {},
   "outputs": [
    {
     "data": {
      "image/png": "[encoded data removed]",
      "text/plain": [
       "<Figure size 640x480 with 1 Axes>"
      ]
     },
     "metadata": {},
     "output_type": "display_data"
    }
   ],
   "source": [
    "\n",
    "plt.plot(mean_revenue_year)\n",
    "plt.title(\"Mean revenue per year\")\n",
    "plt.xlabel(\"Year\")\n",
    "plt.ylabel(\"Mean revenue\")\n",
    "plt.show()\n"
   ]
  },
  {
   "cell_type": "markdown",
   "metadata": {},
   "source": [
    "### Add rotten tomatoes critic score"
   ]
  },
  {
   "cell_type": "code",
   "execution_count": 60,
   "metadata": {},
   "outputs": [],
   "source": [
    "def processing_rotten_tomatoes_score():\n",
    "    rotten_movies = pd.read_csv('data/rotten_tomatoes_movies.csv', sep=',', header=0)\n",
    "\n",
    "    rotten_movies.drop('rotten_tomatoes_link', axis=1, inplace=True)\n",
    "    rotten_movies.drop('movie_info', axis=1, inplace=True)\n",
    "    rotten_movies.drop('tomatometer_status', axis=1, inplace=True)\n",
    "    rotten_movies.drop('tomatometer_count', axis=1, inplace=True)\n",
    "    rotten_movies.drop('audience_status', axis=1, inplace=True)\n",
    "    rotten_movies.drop('audience_count', axis=1, inplace=True)\n",
    "    rotten_movies.drop('tomatometer_top_critics_count', axis=1, inplace=True)\n",
    "    rotten_movies.drop('tomatometer_fresh_critics_count', axis=1, inplace=True)\n",
    "    rotten_movies.drop('tomatometer_rotten_critics_count', axis=1, inplace=True)\n",
    "    # rotten_movies.drop('original_release_date', axis=1, inplace=True)\n",
    "    rotten_movies.drop('streaming_release_date', axis=1, inplace=True)\n",
    "    rotten_movies.drop('runtime', axis=1, inplace=True)\n",
    "    rotten_movies.drop('genres', axis=1, inplace=True)\n",
    "    rotten_movies.drop('content_rating', axis=1, inplace=True)\n",
    "    rotten_movies.drop('actors', axis=1, inplace=True)\n",
    "\n",
    "    rotten_movies.dropna(subset=['movie_title', 'audience_rating', 'tomatometer_rating'], inplace=True)\n",
    "    return rotten_movies\n",
    "\n",
    "rotten_movies = processing_rotten_tomatoes_score()\n",
    "joined_movies = movies.join(rotten_movies.set_index('movie_title'), on='Movie name', how='inner')\n",
    "\n",
    "\n",
    "# 8k film to only 6k\n",
    "# The are error on the merge => the sorcerer's apprentice is not the same movie\n",
    "# Need to fixed, maybe using the release date"
   ]
  },
  {
   "cell_type": "code",
   "execution_count": 64,
   "metadata": {},
   "outputs": [],
   "source": [
    "movies = joined_movies"
   ]
  },
  {
   "cell_type": "markdown",
   "metadata": {},
   "source": [
    "## Analysis"
   ]
  },
  {
   "cell_type": "code",
   "execution_count": 65,
   "metadata": {},
   "outputs": [
    {
     "data": {
      "text/html": [
       "<div>\n",
       "<style scoped>\n",
       "    .dataframe tbody tr th:only-of-type {\n",
       "        vertical-align: middle;\n",
       "    }\n",
       "\n",
       "    .dataframe tbody tr th {\n",
       "        vertical-align: top;\n",
       "    }\n",
       "\n",
       "    .dataframe thead th {\n",
       "        text-align: right;\n",
       "    }\n",
       "</style>\n",
       "<table border=\"1\" class=\"dataframe\">\n",
       "  <thead>\n",
       "    <tr style=\"text-align: right;\">\n",
       "      <th></th>\n",
       "      <th>Wikipedia movie ID</th>\n",
       "      <th>Movie name</th>\n",
       "      <th>Movie release date</th>\n",
       "      <th>Movie box office revenue</th>\n",
       "      <th>Movie runtime</th>\n",
       "      <th>Movie languages</th>\n",
       "      <th>Movie countries</th>\n",
       "      <th>Movie genres</th>\n",
       "      <th>critics_consensus</th>\n",
       "      <th>directors</th>\n",
       "      <th>authors</th>\n",
       "      <th>original_release_date</th>\n",
       "      <th>production_company</th>\n",
       "      <th>tomatometer_rating</th>\n",
       "      <th>audience_rating</th>\n",
       "    </tr>\n",
       "  </thead>\n",
       "  <tbody>\n",
       "    <tr>\n",
       "      <th>6</th>\n",
       "      <td>18998739</td>\n",
       "      <td>The Sorcerer's Apprentice</td>\n",
       "      <td>2002-01-01</td>\n",
       "      <td>NaN</td>\n",
       "      <td>86.0</td>\n",
       "      <td>{English Language}</td>\n",
       "      <td>{South Africa}</td>\n",
       "      <td>{Fantasy, Adventure, World cinema, Family Film}</td>\n",
       "      <td>It has a likable cast and loads of CGI spectac...</td>\n",
       "      <td>Jon Turtletaub, Jon Turteltaub</td>\n",
       "      <td>Lawrence Konner, Mark Rosenthal, Doug Miro, Ma...</td>\n",
       "      <td>2010-07-14</td>\n",
       "      <td>Walt Disney Studios</td>\n",
       "      <td>40.0</td>\n",
       "      <td>53.0</td>\n",
       "    </tr>\n",
       "    <tr>\n",
       "      <th>18151</th>\n",
       "      <td>18997933</td>\n",
       "      <td>The Sorcerer's Apprentice</td>\n",
       "      <td>1955-01-01</td>\n",
       "      <td>NaN</td>\n",
       "      <td>13.0</td>\n",
       "      <td>{English Language}</td>\n",
       "      <td>{United States of America, West Germany}</td>\n",
       "      <td>{Short Film}</td>\n",
       "      <td>It has a likable cast and loads of CGI spectac...</td>\n",
       "      <td>Jon Turtletaub, Jon Turteltaub</td>\n",
       "      <td>Lawrence Konner, Mark Rosenthal, Doug Miro, Ma...</td>\n",
       "      <td>2010-07-14</td>\n",
       "      <td>Walt Disney Studios</td>\n",
       "      <td>40.0</td>\n",
       "      <td>53.0</td>\n",
       "    </tr>\n",
       "    <tr>\n",
       "      <th>49733</th>\n",
       "      <td>12621957</td>\n",
       "      <td>The Sorcerer's Apprentice</td>\n",
       "      <td>2010-07-08</td>\n",
       "      <td>215283742.0</td>\n",
       "      <td>111.0</td>\n",
       "      <td>{English Language}</td>\n",
       "      <td>{United States of America}</td>\n",
       "      <td>{Fantasy, Action, Comedy, Adventure, Science F...</td>\n",
       "      <td>It has a likable cast and loads of CGI spectac...</td>\n",
       "      <td>Jon Turtletaub, Jon Turteltaub</td>\n",
       "      <td>Lawrence Konner, Mark Rosenthal, Doug Miro, Ma...</td>\n",
       "      <td>2010-07-14</td>\n",
       "      <td>Walt Disney Studios</td>\n",
       "      <td>40.0</td>\n",
       "      <td>53.0</td>\n",
       "    </tr>\n",
       "    <tr>\n",
       "      <th>7</th>\n",
       "      <td>10408933</td>\n",
       "      <td>Alexander's Ragtime Band</td>\n",
       "      <td>1938-08-16</td>\n",
       "      <td>3600000.0</td>\n",
       "      <td>106.0</td>\n",
       "      <td>{English Language}</td>\n",
       "      <td>{United States of America}</td>\n",
       "      <td>{Musical, Comedy, Black-and-white}</td>\n",
       "      <td>NaN</td>\n",
       "      <td>Henry King</td>\n",
       "      <td>Lamar Trotti, Kathryn Scola, Irving Berlin, Ri...</td>\n",
       "      <td>1938-08-16</td>\n",
       "      <td>20th Century Fox Film Corporation</td>\n",
       "      <td>80.0</td>\n",
       "      <td>46.0</td>\n",
       "    </tr>\n",
       "    <tr>\n",
       "      <th>13</th>\n",
       "      <td>171005</td>\n",
       "      <td>Henry V</td>\n",
       "      <td>1989-11-08</td>\n",
       "      <td>10161099.0</td>\n",
       "      <td>137.0</td>\n",
       "      <td>{English Language}</td>\n",
       "      <td>{United Kingdom}</td>\n",
       "      <td>{Costume drama, War film, Film adaptation, Epi...</td>\n",
       "      <td>Pehaps Kenneth Branagh's most fully realized S...</td>\n",
       "      <td>Kenneth Branagh</td>\n",
       "      <td>Kenneth Branagh</td>\n",
       "      <td>1989-11-08</td>\n",
       "      <td>MGM Home Entertainment</td>\n",
       "      <td>100.0</td>\n",
       "      <td>89.0</td>\n",
       "    </tr>\n",
       "  </tbody>\n",
       "</table>\n",
       "</div>"
      ],
      "text/plain": [
       "       Wikipedia movie ID                 Movie name Movie release date  \\\n",
       "6                18998739  The Sorcerer's Apprentice         2002-01-01   \n",
       "18151            18997933  The Sorcerer's Apprentice         1955-01-01   \n",
       "49733            12621957  The Sorcerer's Apprentice         2010-07-08   \n",
       "7                10408933   Alexander's Ragtime Band         1938-08-16   \n",
       "13                 171005                    Henry V         1989-11-08   \n",
       "\n",
       "       Movie box office revenue  Movie runtime     Movie languages  \\\n",
       "6                           NaN           86.0  {English Language}   \n",
       "18151                       NaN           13.0  {English Language}   \n",
       "49733               215283742.0          111.0  {English Language}   \n",
       "7                     3600000.0          106.0  {English Language}   \n",
       "13                   10161099.0          137.0  {English Language}   \n",
       "\n",
       "                                Movie countries  \\\n",
       "6                                {South Africa}   \n",
       "18151  {United States of America, West Germany}   \n",
       "49733                {United States of America}   \n",
       "7                    {United States of America}   \n",
       "13                             {United Kingdom}   \n",
       "\n",
       "                                            Movie genres  \\\n",
       "6        {Fantasy, Adventure, World cinema, Family Film}   \n",
       "18151                                       {Short Film}   \n",
       "49733  {Fantasy, Action, Comedy, Adventure, Science F...   \n",
       "7                     {Musical, Comedy, Black-and-white}   \n",
       "13     {Costume drama, War film, Film adaptation, Epi...   \n",
       "\n",
       "                                       critics_consensus  \\\n",
       "6      It has a likable cast and loads of CGI spectac...   \n",
       "18151  It has a likable cast and loads of CGI spectac...   \n",
       "49733  It has a likable cast and loads of CGI spectac...   \n",
       "7                                                    NaN   \n",
       "13     Pehaps Kenneth Branagh's most fully realized S...   \n",
       "\n",
       "                            directors  \\\n",
       "6      Jon Turtletaub, Jon Turteltaub   \n",
       "18151  Jon Turtletaub, Jon Turteltaub   \n",
       "49733  Jon Turtletaub, Jon Turteltaub   \n",
       "7                          Henry King   \n",
       "13                    Kenneth Branagh   \n",
       "\n",
       "                                                 authors  \\\n",
       "6      Lawrence Konner, Mark Rosenthal, Doug Miro, Ma...   \n",
       "18151  Lawrence Konner, Mark Rosenthal, Doug Miro, Ma...   \n",
       "49733  Lawrence Konner, Mark Rosenthal, Doug Miro, Ma...   \n",
       "7      Lamar Trotti, Kathryn Scola, Irving Berlin, Ri...   \n",
       "13                                       Kenneth Branagh   \n",
       "\n",
       "      original_release_date                 production_company  \\\n",
       "6                2010-07-14                Walt Disney Studios   \n",
       "18151            2010-07-14                Walt Disney Studios   \n",
       "49733            2010-07-14                Walt Disney Studios   \n",
       "7                1938-08-16  20th Century Fox Film Corporation   \n",
       "13               1989-11-08             MGM Home Entertainment   \n",
       "\n",
       "       tomatometer_rating  audience_rating  \n",
       "6                    40.0             53.0  \n",
       "18151                40.0             53.0  \n",
       "49733                40.0             53.0  \n",
       "7                    80.0             46.0  \n",
       "13                  100.0             89.0  "
      ]
     },
     "execution_count": 65,
     "metadata": {},
     "output_type": "execute_result"
    }
   ],
   "source": [
    "movies.head()"
   ]
  },
  {
   "cell_type": "code",
   "execution_count": null,
   "metadata": {},
   "outputs": [
    {
     "data": {
      "text/html": [
       "<div>\n",
       "<style scoped>\n",
       "    .dataframe tbody tr th:only-of-type {\n",
       "        vertical-align: middle;\n",
       "    }\n",
       "\n",
       "    .dataframe tbody tr th {\n",
       "        vertical-align: top;\n",
       "    }\n",
       "\n",
       "    .dataframe thead th {\n",
       "        text-align: right;\n",
       "    }\n",
       "</style>\n",
       "<table border=\"1\" class=\"dataframe\">\n",
       "  <thead>\n",
       "    <tr style=\"text-align: right;\">\n",
       "      <th></th>\n",
       "      <th>Wikipedia movie ID</th>\n",
       "      <th>Movie release date</th>\n",
       "      <th>Character name</th>\n",
       "      <th>Actor date of birth</th>\n",
       "      <th>Actor gender</th>\n",
       "      <th>Actor height (in meters)</th>\n",
       "      <th>Actor name</th>\n",
       "      <th>Actor age at movie release</th>\n",
       "    </tr>\n",
       "  </thead>\n",
       "  <tbody>\n",
       "    <tr>\n",
       "      <th>0</th>\n",
       "      <td>975900</td>\n",
       "      <td>2001-08-24</td>\n",
       "      <td>Akooshay</td>\n",
       "      <td>1958-08-26</td>\n",
       "      <td>F</td>\n",
       "      <td>1.620</td>\n",
       "      <td>Wanda De Jesus</td>\n",
       "      <td>42.0</td>\n",
       "    </tr>\n",
       "    <tr>\n",
       "      <th>1</th>\n",
       "      <td>975900</td>\n",
       "      <td>2001-08-24</td>\n",
       "      <td>Lieutenant Melanie Ballard</td>\n",
       "      <td>1974-08-15</td>\n",
       "      <td>F</td>\n",
       "      <td>1.780</td>\n",
       "      <td>Natasha Henstridge</td>\n",
       "      <td>27.0</td>\n",
       "    </tr>\n",
       "    <tr>\n",
       "      <th>2</th>\n",
       "      <td>975900</td>\n",
       "      <td>2001-08-24</td>\n",
       "      <td>Desolation Williams</td>\n",
       "      <td>1969-06-15</td>\n",
       "      <td>M</td>\n",
       "      <td>1.727</td>\n",
       "      <td>Ice Cube</td>\n",
       "      <td>32.0</td>\n",
       "    </tr>\n",
       "    <tr>\n",
       "      <th>3</th>\n",
       "      <td>975900</td>\n",
       "      <td>2001-08-24</td>\n",
       "      <td>Sgt Jericho Butler</td>\n",
       "      <td>1967-09-12</td>\n",
       "      <td>M</td>\n",
       "      <td>1.750</td>\n",
       "      <td>Jason Statham</td>\n",
       "      <td>33.0</td>\n",
       "    </tr>\n",
       "    <tr>\n",
       "      <th>4</th>\n",
       "      <td>975900</td>\n",
       "      <td>2001-08-24</td>\n",
       "      <td>Bashira Kincaid</td>\n",
       "      <td>1977-09-25</td>\n",
       "      <td>F</td>\n",
       "      <td>1.650</td>\n",
       "      <td>Clea DuVall</td>\n",
       "      <td>23.0</td>\n",
       "    </tr>\n",
       "  </tbody>\n",
       "</table>\n",
       "</div>"
      ],
      "text/plain": [
       "   Wikipedia movie ID Movie release date              Character name  \\\n",
       "0              975900         2001-08-24                    Akooshay   \n",
       "1              975900         2001-08-24  Lieutenant Melanie Ballard   \n",
       "2              975900         2001-08-24         Desolation Williams   \n",
       "3              975900         2001-08-24          Sgt Jericho Butler   \n",
       "4              975900         2001-08-24             Bashira Kincaid   \n",
       "\n",
       "  Actor date of birth Actor gender  Actor height (in meters)  \\\n",
       "0          1958-08-26            F                     1.620   \n",
       "1          1974-08-15            F                     1.780   \n",
       "2          1969-06-15            M                     1.727   \n",
       "3          1967-09-12            M                     1.750   \n",
       "4          1977-09-25            F                     1.650   \n",
       "\n",
       "           Actor name  Actor age at movie release  \n",
       "0      Wanda De Jesus                        42.0  \n",
       "1  Natasha Henstridge                        27.0  \n",
       "2            Ice Cube                        32.0  \n",
       "3       Jason Statham                        33.0  \n",
       "4         Clea DuVall                        23.0  "
      ]
     },
     "execution_count": 15,
     "metadata": {},
     "output_type": "execute_result"
    }
   ],
   "source": [
    "characters.head()"
   ]
  }
 ],
 "metadata": {
  "kernelspec": {
   "display_name": "ada",
   "language": "python",
   "name": "python3"
  },
  "language_info": {
   "codemirror_mode": {
    "name": "ipython",
    "version": 3
   },
   "file_extension": ".py",
   "mimetype": "text/x-python",
   "name": "python",
   "nbconvert_exporter": "python",
   "pygments_lexer": "ipython3",
   "version": "3.9.18"
  }
 },
 "nbformat": 4,
 "nbformat_minor": 2
}
